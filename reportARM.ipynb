{
 "cells": [
  {
   "cell_type": "markdown",
   "metadata": {},
   "source": [
    "# European Soccer Database\n",
    "\n",
    "\n",
    "## Table of Contents\n",
    "<ul>\n",
    "<li><a href=\"#intro\">Introduction</a></li>\n",
    "<li><a href=\"#wrangling\">Data Wrangling</a></li>\n",
    "<li><a href=\"#eda\">Exploratory Data Analysis</a></li>\n",
    "<li><a href=\"#conclusions\">Conclusions</a></li>\n",
    "</ul>"
   ]
  },
  {
   "cell_type": "markdown",
   "metadata": {},
   "source": [
    "<a id='intro'></a>\n",
    "## Introduction\n",
    "\n",
    "As an average european male citizen I've always been interested in \"football\". In fact, I've done a fair bit of online football betting with not much success. It may well be that I was letting myself to passion as opposed to data. This project therefore represents a good opportunity to take more informed decissions should I decide to bet in the future.\n",
    "\n",
    "The database is available at [Kaggle](https://www.kaggle.com/hugomathien/soccer). It consists of a sqlite database that contains eight different tables. The amount of detail in the database is overwhelming and for this project only a subset of the tables will be used. \n",
    "\n",
    "Before starting a discussion on what information is relevant for this project, let's first pose the questions and then discuss what parts of the database will be useful to answer them.\n",
    " > Since there is information on winning probability assigned by the bookmaker, it may be worth answering whether matches where there is a clear favourite show different statistics from those other matches where winning probabilities are more evenly distributed. **Does the fact that we know whether there is a favourite in a match increase our chances of predicting some other statistic about the game?**\n",
    "\n",
    " > It seems to me that the number of goals in any given stage will be directly related to how far into the season a match is played. At the beginning of the season there are generally some new players that have not adapted yet, also players are not yet in shape. At the end of the season players are generally tired after playing the whole season. So my question is **Are there more goals for stages that take place around mid-season?**\n",
    "\n",
    " > Also an 'a priori' thought that occurs to me is that when the probabilities for each result are not assigning a clear favourite, then to me (no data analysis yet...) that represent a totally random process where probabilities can be calculated with the information contained in the database. If for example the probability for home win was 40%. **Would an strategy of betting for home win when it pays > 1/0.4 be a successful strategy?**\n",
    " \n",
    " > Lastly, if I was the new president of an aspiring team with enough money. **Is it worth investing in a top10 scorer?** or in other words **Do top scorers play in the most successful teams**\n",
    "\n",
    "In order to answer these questions above we then need the following tables from the database:\n",
    "* **Country**. This table will enable comparing results by country name as opposed to country id\n",
    "* **Match**. This table contains the bulk of data for this project and it will be used to answer every question\n",
    "* **Player**. This table will help us answer last question\n",
    "* **Team**. This table, again will help us answer last question and support some of the assertions in the analysis below   \n",
    "\n",
    "I have deliverately not included the following tables\n",
    "\n",
    "* **League**. The database only contains one league per country, so this table does not add any extra information\n",
    "* **Player_Attributes**: This database contains information about player skill. This table does not add any information to answer the questions above.\n",
    "* **Team_Attributes**: Similarly, this table does not add any useful information that could be used to answer the questions above.\n",
    "\n",
    "The idea then is to query the database to extract all the useful information. Then doing all data wrangling process to have the data in the most organised way possible. To answer the first three questions, the **match** table contains most of the information required. However it will be seen that information from **Country** is also required.  \n",
    "\n",
    "A list of the Python modules that will be used can be seen in the excerpt below."
   ]
  },
  {
   "cell_type": "code",
   "execution_count": 1,
   "metadata": {},
   "outputs": [],
   "source": [
    "import pandas as pd\n",
    "import numpy as np\n",
    "import sqlite3\n",
    "import matplotlib.pyplot as plt\n",
    "import seaborn as sns\n",
    "import xml.etree.ElementTree as ET\n",
    "import random\n",
    "%matplotlib inline"
   ]
  },
  {
   "cell_type": "markdown",
   "metadata": {},
   "source": [
    "Also, worth mentioning that I've copied from [here](https://www.kaggle.com/jiezi2004/the-beautiful-game-1-data-preparation/notebook) the following two functions that will help me parse XML data.\n"
   ]
  },
  {
   "cell_type": "code",
   "execution_count": 2,
   "metadata": {},
   "outputs": [],
   "source": [
    "def getTags(xMLcolumnNm, matches):\n",
    "    elemList = []\n",
    "    # iterate each row in the XML column\n",
    "    for index, row in matches[pd.notnull(matches[xMLcolumnNm])].iterrows():\n",
    "        # read in xml data\n",
    "        tree = ET.ElementTree(ET.fromstring(row[xMLcolumnNm]))\n",
    "        for elem in tree.iter():\n",
    "            elemList.append(elem.tag) # append tag name\n",
    "\n",
    "    # remove duplicates of tag names\n",
    "    return list(set(elemList))\n",
    "def parseXMLData(xMLcolumnNm, matches):\n",
    "    tags = getTags(xMLcolumnNm,matches) # get a list of all tags\n",
    "       \n",
    "    tagLists = {} # host all other tags\n",
    "    pos = []\n",
    "    otherList = {'match_id':[], 'pos_x':[], 'pos_y':[]} # host match id\n",
    "    \n",
    "    for tag in tags:\n",
    "        tagLists[tag] = [] # initiate tag lists   \n",
    "        \n",
    "    for index, row in matches[pd.notnull(matches[xMLcolumnNm])].iterrows():\n",
    "        game_id = row['id'] # this helps identify match\n",
    "        # rea-in XML data\n",
    "        tree = ET.ElementTree(ET.fromstring(row[xMLcolumnNm]))\n",
    "        root = tree.getroot()  \n",
    "        \n",
    "        for event in root.findall('value'):\n",
    "            otherList['match_id'].append(game_id)\n",
    "            for tag in tags:\n",
    "                if(event.find(tag) is None):\n",
    "                    tagLists[tag].append(None)\n",
    "                else:\n",
    "                    tagLists[tag].append(event.find(tag).text) \n",
    "                    \n",
    "            # get position information\n",
    "            if(event.find('coordinates') is None): \n",
    "                pos.append(None)\n",
    "                pos.append(None)\n",
    "            else:  \n",
    "                for value in event.findall(\"coordinates/value\"):\n",
    "                    pos.append(value.text)\n",
    "                    \n",
    "    otherList['pos_y'] = pos[1::2]  # Elements from list1 starting from 1 iterating by 2\n",
    "    otherList['pos_x'] = pos[0::2]  # Elements from list1 starting from 0 iterating by 2\n",
    "            \n",
    "    xmlInfo = {**otherList, **tagLists}\n",
    "    return pd.DataFrame(xmlInfo)"
   ]
  },
  {
   "cell_type": "markdown",
   "metadata": {},
   "source": [
    "Then, everything is ready to start getting data from the database. In order to fetch data we use the module sqlite3 that will help querying the data base with SQL grammar. Data from the database will be used to create pandas dataframes."
   ]
  },
  {
   "cell_type": "code",
   "execution_count": 3,
   "metadata": {},
   "outputs": [],
   "source": [
    "with sqlite3.connect('./database.sqlite') as con:\n",
    "    df_countries = pd.read_sql_query(\"SELECT * from Country\", con)\n",
    "    df_matches = pd.read_sql_query(\"SELECT * from Match\", con)\n",
    "    df_teams = pd.read_sql_query(\"SELECT * from Team\", con)\n",
    "    df_players = pd.read_sql_query(\"SELECT player_api_id, player_name FROM Player;\", con)"
   ]
  },
  {
   "cell_type": "markdown",
   "metadata": {},
   "source": [
    "<a id='wrangling'></a>\n",
    "## Data Wrangling\n",
    "\n",
    "### General Properties"
   ]
  },
  {
   "cell_type": "markdown",
   "metadata": {},
   "source": [
    "Now that all data is organised in dataframes, we are ready to start the data wrangling phase. The idea is to make changes to the original dataframes so that only relevant information is used. As explained in the introduction, the first three questions refer to general statistics about matches in general. Information on players or specific teams will not add relevant information. Therefore the main piece of data that I'll be using will be data contained in dataframe **df_matches**. Also, data will be more readable if the country appeared by name, as opposed to id. This means that a JOIN operation needs to be performed between df_matches and df_countries so all the information can be found under the same dataframe. The resulting dataframe will contain all information required to answer 3 out of our 4 questions, so **df_main** will be the name for this dataframe\n",
    "\n",
    "### Operations on dataframes to obtain a clean *df_main*."
   ]
  },
  {
   "cell_type": "markdown",
   "metadata": {},
   "source": [
    "Data in df_countries is quite simple. It contains a mapping between country id and country name. For the purpose of this analysis only the three major (England, Italy and Spain) leagues will be chosen (Warning: Which are the major leagues it's a debatable topic, so this represents a personal opinion).  \n",
    " > * Filter df_countries to get only those countries I'm interested in.  \n",
    "\n",
    "Once df_countries is ready, merge it with df_matches to form main_df. Please note, that the JOIN operation on these two dataframes will be an INNER JOIN. Therefore countries in df_matches that I'm not interested in, will be dropped after the JOIN operation.\n",
    " > * Perform an INNER JOIN  \n",
    " > * Rename the column id_y to id."
   ]
  },
  {
   "cell_type": "code",
   "execution_count": 4,
   "metadata": {},
   "outputs": [
    {
     "data": {
      "text/plain": [
       "(9097, 117)"
      ]
     },
     "execution_count": 4,
     "metadata": {},
     "output_type": "execute_result"
    }
   ],
   "source": [
    "df_countries.query('name in [\"England\", \"Italy\", \"Spain\"]', inplace = True)\n",
    "main_df = df_countries.merge(df_matches, left_on= 'id', right_on='country_id')\n",
    "# Keep the id from matches, as we will need it for later JOINs\n",
    "main_df.rename(columns={'id_y':'id'},inplace=True)\n",
    "main_df.shape"
   ]
  },
  {
   "cell_type": "markdown",
   "metadata": {},
   "source": [
    "It can be observed that our main dataframe contains a very large number of columns. After inspection it can be seen that there are many that can be pruned.  \n",
    "For example it contains information about coordenates of players in the field. This does not bring any added benefit to this analysis. So let's remove those columns that contain coordinates. These are defined as home_playerX# home_playerY#, away_playerX# away_playerY#. Also individual footballers that played that game are of no interest so we can drop those as well. These ids are in the shape of home_player_#, away_player_#\n",
    "\n",
    "There are still more columns we could get rid of... for example columns with betting odds. There are a number of 10 bookmakers in this dataframe, each of them using 3 columns for home, draw, away odds. It's understood that different betting companies will assign similar probabilities to the same sporting events. Let's quickly assert our understanding by comparing the average probabilities that different bookmakers have assinged to home win"
   ]
  },
  {
   "cell_type": "code",
   "execution_count": 5,
   "metadata": {},
   "outputs": [
    {
     "data": {
      "image/png": "[encoded data removed]",
      "text/plain": [
       "<Figure size 432x288 with 1 Axes>"
      ]
     },
     "metadata": {
      "needs_background": "light"
     },
     "output_type": "display_data"
    }
   ],
   "source": [
    "# Get a slice of the original dataframe containing only betting odds\n",
    "bookies = df_matches.iloc[:,-10*3:]\n",
    "bookies['homeWinSpread'] = np.repeat(0,len(bookies.index))\n",
    "bookies.dropna(inplace=True) # In order to get spread bewtween bookies we don't care whether there are a few missing games\n",
    "for bookieNum in range(1,10):\n",
    "    # Compare probability deviations from the first bookmaker in the dataframe\n",
    "    bookies['homeWinSpread'] += abs((bookies.iloc[:,3*bookieNum]/bookies.iloc[:,0]) - 1) \n",
    "bookies['homeWinSpread'] /= 0.09 # Divide by 9 to calculate average multiply by 100 to get percentage spread\n",
    "plt.hist(bookies['homeWinSpread'],range(0,30,5));\n",
    "plt.xlabel('Average difference in % per game');\n",
    "plt.ylabel('Number of occurences');\n",
    "plt.title('Differences in assigned home win probabilities');"
   ]
  },
  {
   "cell_type": "markdown",
   "metadata": {},
   "source": [
    "It can be observed in the histogram above that probabilities assigned to home wins are on average *mostly* within 5% of each other. Therefore it's safe to get rid of all the bookmakers information BUT one"
   ]
  },
  {
   "cell_type": "code",
   "execution_count": 6,
   "metadata": {},
   "outputs": [
    {
     "name": "stdout",
     "output_type": "stream",
     "text": [
      "<class 'pandas.core.frame.DataFrame'>\n",
      "Int64Index: 9097 entries, 0 to 9096\n",
      "Data columns (total 20 columns):\n",
      "name                9097 non-null object\n",
      "id                  9097 non-null int64\n",
      "season              9097 non-null object\n",
      "stage               9097 non-null int64\n",
      "date                9097 non-null object\n",
      "home_team_api_id    9097 non-null int64\n",
      "away_team_api_id    9097 non-null int64\n",
      "home_team_goal      9097 non-null int64\n",
      "away_team_goal      9097 non-null int64\n",
      "goal                9093 non-null object\n",
      "shoton              9093 non-null object\n",
      "shotoff             9093 non-null object\n",
      "foulcommit          9093 non-null object\n",
      "card                9093 non-null object\n",
      "cross               9093 non-null object\n",
      "corner              9093 non-null object\n",
      "possession          9093 non-null object\n",
      "B365H               9090 non-null float64\n",
      "B365D               9090 non-null float64\n",
      "B365A               9090 non-null float64\n",
      "dtypes: float64(3), int64(6), object(11)\n",
      "memory usage: 1.5+ MB\n",
      "\n",
      "\n",
      "Are there any duplicate lines in this dataframe: False\n"
     ]
    }
   ],
   "source": [
    "# id_x, league_id and country_id can be removed after the JOIN operation as they are no longer required.\n",
    "redundantColumnList = ['id_x','league_id', 'country_id', 'match_api_id']\n",
    "# Also, analysing information on players will be too time consuming, so player attributes or positions won't be explored\n",
    "listToDrop = [('{}_player_{}{}'.format(side,coor,num),'{}_player_{}'.format(side,num) ) \n",
    "              for side in ['home','away'] for coor in ['X','Y'] for num in range(1,12)]\n",
    "listToDrop = [x[0] for x in listToDrop ] + list(set([x[1] for x in listToDrop ])) + redundantColumnList\n",
    "# Also, there are a total of 10 bookmakers... get only the first one\n",
    "listToDrop = list(df_matches.columns[-9*3:]) + listToDrop\n",
    "main_df.drop(columns=listToDrop, inplace =True)\n",
    "main_df.info()\n",
    "print ( \"\\n\\nAre there any duplicate lines in this dataframe: {}\".format(main_df.duplicated().any()))"
   ]
  },
  {
   "cell_type": "markdown",
   "metadata": {},
   "source": [
    "From the information above we can see that there are no duplicated games, so that's good and nothing to do on that front.\n",
    "\n",
    "However, there are matches that are missing data. Looking at the numbers it can be observed that the amount of missing information is small compared to the overall number of entries.\n",
    "\n",
    "There are genearlly two ways to proceed with missing dat. We either make up the information or remove those rows. Since the number of lines with missing information is only a very small percentage of the whole, and also to ease analysis let's drop those rows.\n",
    "\n",
    "Also, it seems that there are columns that are represented with the wrong type. For exmaple goal, foulcommit or card... This is because these columns contain more information in XML format. We will need to parse those columns, obtain new dataframes and remove these columns from our main dataframe since their information will be located somewhere else. Please note that data on *shot on, shot off* and *cross* is not relevant for our analysis and it won't be used"
   ]
  },
  {
   "cell_type": "code",
   "execution_count": 7,
   "metadata": {},
   "outputs": [
    {
     "data": {
      "text/html": [
       "<div>\n",
       "<style scoped>\n",
       "    .dataframe tbody tr th:only-of-type {\n",
       "        vertical-align: middle;\n",
       "    }\n",
       "\n",
       "    .dataframe tbody tr th {\n",
       "        vertical-align: top;\n",
       "    }\n",
       "\n",
       "    .dataframe thead th {\n",
       "        text-align: right;\n",
       "    }\n",
       "</style>\n",
       "<table border=\"1\" class=\"dataframe\">\n",
       "  <thead>\n",
       "    <tr style=\"text-align: right;\">\n",
       "      <th></th>\n",
       "      <th>name</th>\n",
       "      <th>id</th>\n",
       "      <th>season</th>\n",
       "      <th>stage</th>\n",
       "      <th>date</th>\n",
       "      <th>HT_id</th>\n",
       "      <th>AT_id</th>\n",
       "      <th>HT_goal</th>\n",
       "      <th>AT_goal</th>\n",
       "      <th>B365H</th>\n",
       "      <th>B365D</th>\n",
       "      <th>B365A</th>\n",
       "    </tr>\n",
       "  </thead>\n",
       "  <tbody>\n",
       "    <tr>\n",
       "      <th>0</th>\n",
       "      <td>England</td>\n",
       "      <td>1729</td>\n",
       "      <td>2008/2009</td>\n",
       "      <td>1</td>\n",
       "      <td>2008-08-17 00:00:00</td>\n",
       "      <td>10260</td>\n",
       "      <td>10261</td>\n",
       "      <td>1</td>\n",
       "      <td>1</td>\n",
       "      <td>1.29</td>\n",
       "      <td>5.5</td>\n",
       "      <td>11.0</td>\n",
       "    </tr>\n",
       "  </tbody>\n",
       "</table>\n",
       "</div>"
      ],
      "text/plain": [
       "      name    id     season  stage                 date  HT_id  AT_id  \\\n",
       "0  England  1729  2008/2009      1  2008-08-17 00:00:00  10260  10261   \n",
       "\n",
       "   HT_goal  AT_goal  B365H  B365D  B365A  \n",
       "0        1        1   1.29    5.5   11.0  "
      ]
     },
     "execution_count": 7,
     "metadata": {},
     "output_type": "execute_result"
    }
   ],
   "source": [
    "main_df.dropna(inplace=True)\n",
    "goalInfo = parseXMLData('goal',main_df)\n",
    "foulsInfo = parseXMLData('foulcommit',main_df)\n",
    "cardsInfo = parseXMLData('card',main_df)\n",
    "cornerInfo = parseXMLData('corner',main_df)\n",
    "possessionInfo = parseXMLData('possession',main_df)\n",
    "main_df.drop(columns=[\"goal\",\"shoton\",\"shotoff\",\"foulcommit\",\"card\",\"cross\",\"corner\",\"possession\"],inplace=True)\n",
    "main_df.rename(columns={'home_team_api_id':'HT_id', 'away_team_api_id':'AT_id', 'home_team_goal':'HT_goal', \n",
    "                        'away_team_goal':'AT_goal'}, inplace=True)\n",
    "main_df.head(1)"
   ]
  },
  {
   "cell_type": "markdown",
   "metadata": {},
   "source": [
    "#### Data Wrangling on XML-formatted columns\n",
    "The first line of our main_df dataframe displayed above shows the cleaning process results. Also the match above will be useful to verify whether the information parsed with the XML parser is trustworthy."
   ]
  },
  {
   "cell_type": "code",
   "execution_count": 8,
   "metadata": {
    "scrolled": true
   },
   "outputs": [
    {
     "name": "stdout",
     "output_type": "stream",
     "text": [
      "     id  HT_id  AT_id\n",
      "0  1729  10260  10261\n",
      "\n",
      "\n",
      "\n",
      "      id  team_api_id  team_fifa_api_id     team_long_name team_short_name\n",
      "25  3457        10260              11.0  Manchester United             MUN\n",
      "26  3458        10261              13.0   Newcastle United             NEW\n",
      "\n",
      "\n",
      "\n",
      "      player_api_id      player_name\n",
      "2288          24148  Darren Fletcher\n",
      "4592          38807     James Milner\n",
      "8067          37799  Obafemi Martins\n",
      "9333          24154       Ryan Giggs\n"
     ]
    }
   ],
   "source": [
    "print (main_df[main_df['id'] == 1729].loc[:,['id','HT_id', 'AT_id']])\n",
    "print (\"\\n\\n\")\n",
    "print (df_teams.query('team_api_id in [10260,10261]'))\n",
    "print (\"\\n\\n\")\n",
    "print (df_players.query('player_api_id in [37799,38807,24148,24154]'))"
   ]
  },
  {
   "cell_type": "markdown",
   "metadata": {},
   "source": [
    "According to results shown above this game was  \n",
    "Manchester Ud. vs Newcastle Results 1-1 Players participating: Fletcher, Milner, Martins and Giggs\n",
    " \n",
    "Let's check which of those values are important by looking at what happened in reality. Information can be found [here](\n",
    "http://news.bbc.co.uk/sport1/hi/football/eng_prem/7551173.stm)\n",
    "\n",
    "That link shows that only *player1* information is useful as it represents the scorer. Please note that player1 is represented by an ID. It will help readability to include the name instead of the ID. In order to do so, we will need to perform a JOIN operation between the goal dataframe (extracted from the XML info in matches table) and df_players. Also note that this new dataframe will help answer **question 4** so let's drop all other columns.  \n",
    "The information that this dataframe contains (goalInfo) is already present in dF_main (just add home goals and away goals). However the cleaning operation on this dataframe will be useful to answer question 4. So we won't be looking at this dataframe for some time."
   ]
  },
  {
   "cell_type": "code",
   "execution_count": 10,
   "metadata": {},
   "outputs": [
    {
     "data": {
      "text/html": [
       "<div>\n",
       "<style scoped>\n",
       "    .dataframe tbody tr th:only-of-type {\n",
       "        vertical-align: middle;\n",
       "    }\n",
       "\n",
       "    .dataframe tbody tr th {\n",
       "        vertical-align: top;\n",
       "    }\n",
       "\n",
       "    .dataframe thead th {\n",
       "        text-align: right;\n",
       "    }\n",
       "</style>\n",
       "<table border=\"1\" class=\"dataframe\">\n",
       "  <thead>\n",
       "    <tr style=\"text-align: right;\">\n",
       "      <th></th>\n",
       "      <th>match_id</th>\n",
       "      <th>player_api_id</th>\n",
       "      <th>player_name</th>\n",
       "    </tr>\n",
       "  </thead>\n",
       "  <tbody>\n",
       "    <tr>\n",
       "      <th>0</th>\n",
       "      <td>1729</td>\n",
       "      <td>37799</td>\n",
       "      <td>Obafemi Martins</td>\n",
       "    </tr>\n",
       "  </tbody>\n",
       "</table>\n",
       "</div>"
      ],
      "text/plain": [
       "   match_id  player_api_id      player_name\n",
       "0      1729          37799  Obafemi Martins"
      ]
     },
     "execution_count": 10,
     "metadata": {},
     "output_type": "execute_result"
    }
   ],
   "source": [
    "goalInfo = goalInfo[['match_id','player1']].dropna()\n",
    "goalInfo['player1'] = goalInfo.player1.astype(int)\n",
    "# Now add this information by doing a JOIN\n",
    "goalInfo = goalInfo.merge(df_players,left_on='player1', right_on='player_api_id')\n",
    "goalInfo.drop(columns='player1',inplace=True)\n",
    "goalInfo.head(1)"
   ]
  },
  {
   "cell_type": "markdown",
   "metadata": {},
   "source": [
    "The dataframe above contains lines that are duplicated so \n",
    " > sum(goalInfo.duplicated()) != 0\n",
    " \n",
    " However this is most likely not a problem with the data itself... rather the most plausible explanation is that the same player scored twice in the same match"
   ]
  },
  {
   "cell_type": "markdown",
   "metadata": {},
   "source": [
    "The next two XML-parsed dataframes that will be inspected are foulsInfo and cardsInfo. For these dataframes, we are only interested in the number of them per match. The caveat on cards, is that they can take three different values, that is 'y', 'y2' or 'r'. So let's start with fouls that look simpler and calculate the number of fouls per game. For cards let's group them first and see what the resulting dataframe looks like."
   ]
  },
  {
   "cell_type": "code",
   "execution_count": 9,
   "metadata": {},
   "outputs": [
    {
     "name": "stdout",
     "output_type": "stream",
     "text": [
      "<class 'pandas.core.frame.DataFrame'>\n",
      "RangeIndex: 42853 entries, 0 to 42852\n",
      "Data columns (total 2 columns):\n",
      "match_id     42853 non-null int64\n",
      "card_type    42366 non-null object\n",
      "dtypes: int64(1), object(1)\n",
      "memory usage: 669.7+ KB\n"
     ]
    }
   ],
   "source": [
    "foulsInfo.drop(columns=[x for x in foulsInfo.columns if x not in ['match_id','id']],inplace=True)\n",
    "foulsInfo = foulsInfo.groupby('match_id').count()\n",
    "cardsInfo.drop(columns=[x for x in cardsInfo.columns if x not in ['match_id','card_type']],inplace=True)\n",
    "cardsInfo.info()"
   ]
  },
  {
   "cell_type": "markdown",
   "metadata": {},
   "source": [
    "We can see that there are missing values of card_type in this dataframe. This time, we will follow a different approach, as I don't want to get rid of any game due to missing information on cards. Therefore calculate the probability of a card taking each value (y, y2,r), create a sample and use it to fill in those missing values.\n",
    "\n",
    "Then prepare the resulting dataframe to be merged with main_df. It should result in three new columns in main_df one for each of the card types."
   ]
  },
  {
   "cell_type": "code",
   "execution_count": 11,
   "metadata": {},
   "outputs": [],
   "source": [
    "cardsByType = cardsInfo.groupby('card_type').count()\n",
    "probRed = cardsByType.loc['r','match_id']/sum(cardsByType['match_id'])*100\n",
    "probYellow = cardsByType.loc['y','match_id']/sum(cardsByType['match_id'])*100\n",
    "probSecondYellow = cardsByType.loc['y2','match_id']/sum(cardsByType['match_id'])*100\n",
    "# Based on the probabilities above, create a list with as many items as missing values in cards dataframe\n",
    "cardTypeDummyList = [ 'y' if x > (probSecondYellow+probRed) else 'y2' \n",
    "                          if (x > probRed and x <= (probSecondYellow+probRed)) else 'r' for x in [random.randint(0,101) \n",
    "                          for _ in range(0, cardsInfo[cardsInfo['card_type'].isna()].count().match_id) ]]\n",
    "# Fill the original dataframe with the random values calculated\n",
    "cardsInfo.loc[cardsInfo['card_type'].isna(),'card_type'] = cardTypeDummyList\n",
    "# Add a new column to count how many of each type\n",
    "cardsInfo['helpColumn'] = np.repeat(1,len(cardsInfo.index))\n",
    "cardstmp = cardsInfo.groupby(['match_id','card_type']).count()\n",
    "# Use the previous information to create a dataframe where number of card type per match is used\n",
    "# If there are missing values fill them with 0 as it means that no card of that type has been shonw\n",
    "# for that game\n",
    "cardsInfo = pd.DataFrame(index=cardstmp.unstack().index,columns=['y','y2','r'])\n",
    "cardsInfo['y'] = cardstmp.unstack()['helpColumn','y'].fillna(0).astype(int)\n",
    "cardsInfo['y2'] = cardstmp.unstack()['helpColumn','y2'].fillna(0).astype(int)\n",
    "cardsInfo['r'] = cardstmp.unstack()['helpColumn','r'].fillna(0).astype(int)"
   ]
  },
  {
   "cell_type": "markdown",
   "metadata": {},
   "source": [
    "For the last two XML-parsed dataframes... From corner get only the number of them in the game. From possession get the home and away possession percentages and prepare the dataframe to be merged to df_main"
   ]
  },
  {
   "cell_type": "code",
   "execution_count": 12,
   "metadata": {},
   "outputs": [],
   "source": [
    "# From corners we may want to keep the following columns match_id, player1, team\n",
    "cornerInfo.drop(columns=[x for x in cornerInfo.columns if x not in ['match_id','player1','team']],inplace=True)\n",
    "cornerInfo = cornerInfo.groupby(['match_id']).count().drop(columns=['team'])\n",
    "# From possession keep match_id, awaypos and drop all rows that don't contain possession infomration\n",
    "possessionInfo.dropna(subset=['awaypos', 'homepos'],inplace=True)\n",
    "possessionInfo.drop(columns=[x for x in possessionInfo.columns if x not in ['match_id','awaypos','homepos']],inplace=True)\n",
    "# Since there are a few possession readings per game... and all seem similar, calculate the average per game\n",
    "possessionInfo.awaypos = possessionInfo.awaypos.astype(float)\n",
    "possessionInfo.homepos = possessionInfo.homepos.astype(float)\n",
    "possessionInfo = possessionInfo.groupby('match_id').mean()"
   ]
  },
  {
   "cell_type": "markdown",
   "metadata": {},
   "source": [
    "All the XML-parsed dataframes have now been processed and are ready to be incorporated to df_main. Perform all JOIN operations on these different dataframes"
   ]
  },
  {
   "cell_type": "code",
   "execution_count": 13,
   "metadata": {
    "scrolled": true
   },
   "outputs": [
    {
     "name": "stdout",
     "output_type": "stream",
     "text": [
      "<class 'pandas.core.frame.DataFrame'>\n",
      "Int64Index: 6220 entries, 0 to 9096\n",
      "Data columns (total 19 columns):\n",
      "id            6220 non-null int64\n",
      "name          6220 non-null object\n",
      "season        6220 non-null object\n",
      "stage         6220 non-null int64\n",
      "date          6220 non-null object\n",
      "HT_id         6220 non-null int64\n",
      "AT_id         6220 non-null int64\n",
      "HT_goal       6220 non-null int64\n",
      "AT_goal       6220 non-null int64\n",
      "B365H         6220 non-null float64\n",
      "B365D         6220 non-null float64\n",
      "B365A         6220 non-null float64\n",
      "numFouls      6220 non-null int64\n",
      "y             6220 non-null float64\n",
      "y2            6220 non-null float64\n",
      "r             6220 non-null float64\n",
      "numCorners    6220 non-null float64\n",
      "homepos       6220 non-null float64\n",
      "awaypos       6220 non-null float64\n",
      "dtypes: float64(9), int64(7), object(3)\n",
      "memory usage: 971.9+ KB\n",
      "None\n"
     ]
    },
    {
     "data": {
      "text/html": [
       "<div>\n",
       "<style scoped>\n",
       "    .dataframe tbody tr th:only-of-type {\n",
       "        vertical-align: middle;\n",
       "    }\n",
       "\n",
       "    .dataframe tbody tr th {\n",
       "        vertical-align: top;\n",
       "    }\n",
       "\n",
       "    .dataframe thead th {\n",
       "        text-align: right;\n",
       "    }\n",
       "</style>\n",
       "<table border=\"1\" class=\"dataframe\">\n",
       "  <thead>\n",
       "    <tr style=\"text-align: right;\">\n",
       "      <th></th>\n",
       "      <th>id</th>\n",
       "      <th>name</th>\n",
       "      <th>season</th>\n",
       "      <th>stage</th>\n",
       "      <th>date</th>\n",
       "      <th>HT_id</th>\n",
       "      <th>AT_id</th>\n",
       "      <th>HT_goal</th>\n",
       "      <th>AT_goal</th>\n",
       "      <th>B365H</th>\n",
       "      <th>B365D</th>\n",
       "      <th>B365A</th>\n",
       "      <th>numFouls</th>\n",
       "      <th>y</th>\n",
       "      <th>y2</th>\n",
       "      <th>r</th>\n",
       "      <th>numCorners</th>\n",
       "      <th>homepos</th>\n",
       "      <th>awaypos</th>\n",
       "    </tr>\n",
       "  </thead>\n",
       "  <tbody>\n",
       "    <tr>\n",
       "      <th>0</th>\n",
       "      <td>1729</td>\n",
       "      <td>England</td>\n",
       "      <td>2008/2009</td>\n",
       "      <td>1</td>\n",
       "      <td>2008-08-17 00:00:00</td>\n",
       "      <td>10260</td>\n",
       "      <td>10261</td>\n",
       "      <td>1</td>\n",
       "      <td>1</td>\n",
       "      <td>1.29</td>\n",
       "      <td>5.5</td>\n",
       "      <td>11.0</td>\n",
       "      <td>27</td>\n",
       "      <td>3.0</td>\n",
       "      <td>0.0</td>\n",
       "      <td>0.0</td>\n",
       "      <td>12.0</td>\n",
       "      <td>54.75</td>\n",
       "      <td>45.25</td>\n",
       "    </tr>\n",
       "  </tbody>\n",
       "</table>\n",
       "</div>"
      ],
      "text/plain": [
       "     id     name     season  stage                 date  HT_id  AT_id  \\\n",
       "0  1729  England  2008/2009      1  2008-08-17 00:00:00  10260  10261   \n",
       "\n",
       "   HT_goal  AT_goal  B365H  B365D  B365A  numFouls    y   y2    r  numCorners  \\\n",
       "0        1        1   1.29    5.5   11.0        27  3.0  0.0  0.0        12.0   \n",
       "\n",
       "   homepos  awaypos  \n",
       "0    54.75    45.25  "
      ]
     },
     "execution_count": 13,
     "metadata": {},
     "output_type": "execute_result"
    }
   ],
   "source": [
    "main_df = main_df.merge(foulsInfo,left_on='id',right_index=True).rename(columns={'id_y':'numFouls'}).drop(columns=['id_x'])\n",
    "main_df = main_df.merge(cardsInfo,left_on='id',right_index=True,how='left')\n",
    "main_df = main_df.merge(cornerInfo,left_on='id',right_index=True,how='left').rename(columns={'player1':'numCorners'})\n",
    "main_df = main_df.merge(possessionInfo,left_on='id',right_index=True,how='left')\n",
    "# Fill in NA positions with valid values\n",
    "main_df.loc[main_df['awaypos'].isna(),'awaypos'] = 50\n",
    "main_df.loc[main_df['homepos'].isna(),'homepos'] = 50\n",
    "main_df.loc[main_df['numCorners'].isna(),'numCorners'] = 0\n",
    "main_df.loc[main_df['y'].isna(),'y'] = 0\n",
    "main_df.loc[main_df['y2'].isna(),'y2'] = 0\n",
    "main_df.loc[main_df['r'].isna(),'r'] = 0\n",
    "print(main_df.info())\n",
    "main_df.head(1)"
   ]
  },
  {
   "cell_type": "markdown",
   "metadata": {},
   "source": [
    "Let's summarize the steps taken to get all necessary dataframes that will help answer questions posed.\n",
    "* Raw tables from the SQL database were obtained and parsed to dataframes\n",
    "* Dataframes containing information on countries and matches were merged to form main_df\n",
    "* After doing some cleaning and peeking at data types, it was noted that some columns contained more info in XML format\n",
    "* These columns were in turn parsed to other dataframes containing info on goals, fouls, cards, corners and possession\n",
    "* XML-parsed goals dataframe was merged with players table and will help answer question 4.\n",
    "* The rest of XML-parsed dataframes were processed and merged back to main_df\n",
    "\n",
    "We are then now ready to develop answers for the questions posed"
   ]
  },
  {
   "cell_type": "markdown",
   "metadata": {},
   "source": [
    "<a id='eda'></a>\n",
    "## Exploratory Data Analysis\n",
    "\n",
    "\n",
    "### 1. - Does the fact that we know whether there is a favourite in a match increase our chances of predicting some other statistic about the game  \n",
    "\n",
    "We will answer the above by providing an analysis to the below assumptions. \n",
    "* Matches where there is a clear favourite are less aggresive since the favourite will normally win by a clear margin\n",
    "* Matches where there is a clear favourite will have more goals as there will be more open spaces on the field\n",
    "* Matches where there is a clear favourite will feature more corners as I think there will be more opportunities\n",
    "* The above suggests that number of goals and corners should have some degree of correlation\n",
    "* I also expect that home/away number of goals have some degree of correlation with home/away possession. It seems natural to think that the more a team has the ball the more they will score.\n",
    "* Lastly, how accurate are bookmakers are estimating their probabilities for these different kinds of matches.\n",
    "\n",
    "The idea of all the above is to verify whether there are some statistics that are somehow correlated. In the above assertions I assume there are some variables that are connected, but they need confirmation. Also the idea behind splitting games into two groups is because I think they are not part of the same distribution type. For example games where there is a clear favourite are more predictable and will carry less uncertainty. In other words this random process will have lower entropy. On the other hand, games that a priori do not have favourites are more open and so they will contain more uncertainty, hence higher entropy. Since to me, these two random processes have different properties my argument is that their statistical properties are different.\n",
    "\n",
    "Let's define favourite as a team for which a bookmaker has assigned a winning probability of 75% or more. Let's define an open match as that for which any probability is no greater than 45%.\n",
    "Based on this, let's first split our main_df into three distinct dataframes\n",
    " * Matches with favourites, where favourite plays at home\n",
    " * Matches with favourites, where favourite plays away\n",
    " * Matches with no favourites\n"
   ]
  },
  {
   "cell_type": "code",
   "execution_count": 14,
   "metadata": {},
   "outputs": [
    {
     "name": "stdout",
     "output_type": "stream",
     "text": [
      "date          69.207232\n",
      "HT_id         69.207232\n",
      "AT_id         69.207232\n",
      "HT_goal       69.207232\n",
      "AT_goal       69.207232\n",
      "B365H          1.224409\n",
      "B365D          6.745132\n",
      "B365A         15.026426\n",
      "numFouls      22.869263\n",
      "y              3.515994\n",
      "y2             0.069541\n",
      "r              0.111266\n",
      "numCorners    10.752434\n",
      "homepos       61.681168\n",
      "awaypos       38.318832\n",
      "dtype: float64\n",
      "HT_goal        0.633588\n",
      "AT_goal        2.549618\n",
      "B365H         12.362595\n",
      "B365D          6.089695\n",
      "B365A          1.248779\n",
      "numFouls      24.984733\n",
      "y              5.038168\n",
      "y2             0.183206\n",
      "r              0.129771\n",
      "numCorners     9.000000\n",
      "homepos       36.153393\n",
      "awaypos       63.846607\n",
      "dtype: float64\n",
      "HT_goal        1.291878\n",
      "AT_goal        1.248096\n",
      "B365H          2.653230\n",
      "B365D          3.267582\n",
      "B365A          2.818598\n",
      "numFouls      26.026650\n",
      "y              4.453680\n",
      "y2             0.139594\n",
      "r              0.135787\n",
      "numCorners    10.153553\n",
      "homepos       49.067229\n",
      "awaypos       50.932771\n",
      "dtype: float64\n"
     ]
    }
   ],
   "source": [
    "FavOdds = 1/0.75\n",
    "OpenOdds = 1/0.45\n",
    "favH = main_df.query('B365H <= @FavOdds')\n",
    "favA = main_df.query('B365A <= @FavOdds')\n",
    "openmatch = main_df.query('(B365H >= @OpenOdds & B365D >= @OpenOdds & B365A >= @OpenOdds) ')\n",
    "\n",
    "print (favH.mean()[4:])\n",
    "print (favA.mean()[4:])\n",
    "print (openmatch.mean()[4:])"
   ]
  },
  {
   "cell_type": "markdown",
   "metadata": {},
   "source": [
    "As a starting point average values for the different columns in the distinct dataframes are printed above. It can be seen that the number of goals is slightly higher for matches featuring a favourite. Also on average the number of fouls and cards is higher for games that are more balanced. This means that these games are of a more aggresive style. Interestingly, the number of cards and fouls are higher when the favourite is playing away. Also it can be observed that the possession is in line with the groupoing we've chosen. That is, for games where there is a clear favourite it seems the possession is pretty much on the favourite side. However for those game that are more balanced, it seems there is a 50-50% for each team.  \n",
    "It has to be said though, that this is only a description of average values and it doesn't add any other important information such as standard deviation or skewness of data.   \n",
    "In order to get a better idea on the distributions of each individual process, let's get a box plot for each"
   ]
  },
  {
   "cell_type": "code",
   "execution_count": 17,
   "metadata": {},
   "outputs": [
    {
     "data": {
      "image/png": "[encoded data removed]",
      "text/plain": [
       "<Figure size 1152x720 with 5 Axes>"
      ]
     },
     "metadata": {
      "needs_background": "light"
     },
     "output_type": "display_data"
    }
   ],
   "source": [
    "plt.figure(figsize=(16,10));\n",
    "plt.subplot(2,3,1)\n",
    "plt.boxplot([favH['HT_goal']+favH['AT_goal'], favA['HT_goal']+favA['AT_goal'], openmatch['HT_goal']+openmatch['AT_goal']], labels= ['favH','favA','openMatch'], meanline=True,showmeans=True);\n",
    "plt.title('Number of goals');\n",
    "plt.subplot(2,3,2)\n",
    "plt.boxplot([favH['numCorners'], favA['numCorners'], openmatch['numCorners']], labels= ['favH','favA','openMatch'], meanline=True,showmeans=True);\n",
    "plt.title('Number of Corners');\n",
    "plt.subplot(2,3,3)\n",
    "plt.boxplot([favH['homepos'], favA['awaypos'], openmatch['homepos']], labels= ['favH','favA','openMatch'], meanline=True,showmeans=True);\n",
    "plt.title('Possession for favorite');\n",
    "plt.subplot(2,3,4)\n",
    "plt.boxplot([favH['numFouls'], favA['numFouls'], openmatch['numFouls']], labels= ['favH','favA','openMatch'], meanline=True,showmeans=True);\n",
    "plt.title('Number of fouls');\n",
    "plt.subplot(2,3,5)\n",
    "plt.boxplot([favH['y']+favH['y2']+favH['r'], favA['y']+favA['y2']+favA['r'], openmatch['y']+openmatch['y2']+openmatch['r']], labels= ['favH','favA','openMatch'], meanline=True,showmeans=True);\n",
    "plt.title('Number of cards');"
   ]
  },
  {
   "cell_type": "markdown",
   "metadata": {},
   "source": [
    "It can be seen that all processes except for \"possession\" the overlap is noticeable between matches where there is a clear favourite and those that do not have a clear favourite. So in principle it seems complicated to make predictions on any of the stats listed above only by knowing whehter there is a clear favourite or not. However before making conclusions let's analyse the subquestions posed above first.   \n",
    "\n",
    "**Matches where there is a clear favourite are less aggresive since the favourite will normally win by a clear margin**   \n",
    "So in this case aggressive means that there are more fouls and cards. Also, I expect to find some degree of correlation between these two variables. A scatterplot with these two variables will help us analyse whether there is some clustering. If that was the case we could make more accurate predictions\n"
   ]
  },
  {
   "cell_type": "code",
   "execution_count": 16,
   "metadata": {},
   "outputs": [
    {
     "data": {
      "image/png": "[encoded data removed]",
      "text/plain": [
       "<Figure size 432x288 with 1 Axes>"
      ]
     },
     "metadata": {
      "needs_background": "light"
     },
     "output_type": "display_data"
    }
   ],
   "source": [
    "plt.scatter(openmatch['numFouls'],openmatch['y']+openmatch['y2']+openmatch['r']+random.normalvariate(0,0.2), label='open match', s=10);\n",
    "plt.scatter(favH['numFouls'],favH['y']+favH['y2']+favH['r']+random.normalvariate(0,0.2), label='favouriteH',s=10);\n",
    "plt.scatter(favA['numFouls'],favA['y']+favA['y2']+favA['r']+random.normalvariate(0,0.2), label='favouriteA',s=10);\n",
    "plt.legend();\n",
    "plt.xlabel('Number of fouls');\n",
    "plt.ylabel('Number of cards');"
   ]
  },
  {
   "cell_type": "markdown",
   "metadata": {},
   "source": [
    "There is no obvious clustering observed. This seems to reinforced what has been displayed with the previous box plot. However as a whole, the scatter plot seems to show a degree of correlation between the number of fouls and the number of cards. This seems sensible as the more fouls there are the more chances the referee will show a card.\n",
    "On the light of this information is seems that \n",
    "> The original statement is wrong. There is no clear relationship between aggresivity and type of match as there is no clustering observed. However, the scatter plot shows a degree of correlation between number of fouls and number of cards\n",
    "\n",
    "Let's proceed to the second statement  \n",
    "\n",
    "**Matches where there is a clear favourite will have more goals as there will be more open spaces on the field**   \n",
    "The box plot has partly answer this question. On average this is true, however the spread of this random variable is such that it would be hard to consider true that assertion. Let's focus on the spread and get a picture of what the normalized histograms look like for these two categories (favourite vs no favourite)"
   ]
  },
  {
   "cell_type": "code",
   "execution_count": 15,
   "metadata": {},
   "outputs": [
    {
     "data": {
      "image/png": "[encoded data removed]",
      "text/plain": [
       "<Figure size 432x288 with 1 Axes>"
      ]
     },
     "metadata": {
      "needs_background": "light"
     },
     "output_type": "display_data"
    }
   ],
   "source": [
    "fav = np.concatenate([np.array(favH['HT_goal']+favH['AT_goal']),np.array(favA['HT_goal']+favA['AT_goal'])]);\n",
    "plt.hist(fav, density=True, histtype ='step',label='Favourite');\n",
    "plt.hist(openmatch['HT_goal']+openmatch['AT_goal'], density=True, histtype ='step',label='Open');\n",
    "plt.legend()\n",
    "plt.title('Normalized histogram or probability density')\n",
    "plt.xlabel('Number of goals');"
   ]
  },
  {
   "cell_type": "markdown",
   "metadata": {},
   "source": [
    "It can be seen from the histogram above that the overlap in number of goals per game is such that I wouldn't dare to bet on the number of goals only by knowing a priori whether there is a favourite or not. It seems that the distribution for favourites is a bit more uniform, but there is not much difference overall...\n",
    "> Data does not show any evidence that matches where there is a favourite will have more goals\n",
    "\n",
    "Let's progress on giving answers for the following  \n",
    "**Matches where there is a clear favourite will feature more corners as I think there will be more opportunities  \n",
    "The above suggests that number of goals and corners should have some degree of correlation**   \n",
    "We've seen before that the number of goals is not greater when there is a favourite, however let's do a similar analysis for the number of corners."
   ]
  },
  {
   "cell_type": "code",
   "execution_count": 18,
   "metadata": {},
   "outputs": [
    {
     "data": {
      "image/png": "[encoded data removed]",
      "text/plain": [
       "<Figure size 432x288 with 1 Axes>"
      ]
     },
     "metadata": {
      "needs_background": "light"
     },
     "output_type": "display_data"
    }
   ],
   "source": [
    "fav = np.concatenate([np.array(favH['numCorners']),np.array(favA['numCorners'])]);\n",
    "plt.hist(fav, density=True, histtype ='step',label='Favourite');\n",
    "plt.hist(openmatch['numCorners'], density=True, histtype ='step',label='Open');\n",
    "plt.legend()\n",
    "plt.title('Normalized histogram or probability density')\n",
    "plt.xlabel('Number of corners');"
   ]
  },
  {
   "cell_type": "markdown",
   "metadata": {},
   "source": [
    "This time both distributions seem even more alike. It seems that also number of corners are not dependand on whether a match has a clear favourite. However as a whole it may be that the number of corners and goals are somehow correlated. In principle, the number of corners convey the idea that there will be more opportunities and more opportunities will lead to more goals. Let's analyse this by using a scatter plot"
   ]
  },
  {
   "cell_type": "code",
   "execution_count": 22,
   "metadata": {},
   "outputs": [
    {
     "data": {
      "image/png": "[encoded data removed]",
      "text/plain": [
       "<Figure size 432x288 with 1 Axes>"
      ]
     },
     "metadata": {
      "needs_background": "light"
     },
     "output_type": "display_data"
    }
   ],
   "source": [
    "plt.scatter(openmatch['numCorners'],openmatch['HT_goal']+openmatch['AT_goal']+random.normalvariate(0,0.2), label='open match', s=10);\n",
    "plt.scatter(favH['numCorners'],favH['HT_goal']+favH['AT_goal']+random.normalvariate(0,0.2), label='favouriteH',s=10);\n",
    "plt.scatter(favA['numCorners'],favA['HT_goal']+favA['AT_goal']+random.normalvariate(0,0.2), label='favouriteA',s=10);\n",
    "plt.legend();\n",
    "plt.xlabel('Number of corners');\n",
    "plt.ylabel('Number of goals');"
   ]
  },
  {
   "cell_type": "markdown",
   "metadata": {},
   "source": [
    "The plot above seems to indicate that there is no correlation between number of conernes and goals. This leads us to the following conclusion\n",
    "> There does not seem any clear connection between number of corners in a given match provided we knew whether there was a favourite or not. Also, my original assertion was incorrect, given the scatter plot above it seems unlikely there is any correlation between corners and goals in any give match\n",
    "\n",
    "The following assertion to be analysed is written below again for reference   \n",
    "**I also expect that home/away number of goals have some degree of correlation with home/away possession. It seems natural to think that the more a team has the ball the more they will score.**    \n",
    "Generally, a scatter plot gives a good idea on the relation between two variables. In this case the relation to be analysed is possession and number of goals."
   ]
  },
  {
   "cell_type": "code",
   "execution_count": 20,
   "metadata": {},
   "outputs": [
    {
     "data": {
      "image/png": "[encoded data removed]",
      "text/plain": [
       "<Figure size 432x288 with 1 Axes>"
      ]
     },
     "metadata": {
      "needs_background": "light"
     },
     "output_type": "display_data"
    }
   ],
   "source": [
    "favHpos =  np.concatenate([np.array(favH['homepos'] ), np.array(favH['awaypos'])])\n",
    "openpos = np.concatenate([np.array(openmatch['homepos'] ), np.array(openmatch['awaypos'])])\n",
    "favApos = np.concatenate([np.array(favA['homepos'] ), np.array(favA['awaypos'])])\n",
    "\n",
    "favHgoal =  np.concatenate([np.array(favH['HT_goal'] ), np.array(favH['AT_goal'])])\n",
    "favAgoal = np.concatenate([np.array(favA['HT_goal'] ), np.array(favA['AT_goal'])])                      \n",
    "opengoal = np.concatenate([np.array(openmatch['HT_goal'] ), np.array(openmatch['AT_goal'])])\n",
    "\n",
    "plt.scatter(favHpos,favHgoal+random.normalvariate(0,0.2),label='favouriteH',s=10);\n",
    "plt.scatter(favApos,favAgoal+random.normalvariate(0,0.2),label='favouriteA',s=10);\n",
    "plt.scatter(openpos,opengoal+random.normalvariate(0,0.2),label='Open match',s=10);\n",
    "plt.legend();\n",
    "plt.xlabel('Possession in %');\n",
    "plt.ylabel('Number of goals');\n",
    "plt.title('Relation between goals and possession for a given match');\n",
    "                                                           "
   ]
  },
  {
   "cell_type": "markdown",
   "metadata": {},
   "source": [
    "The graph above shows a one way relation. It seems that knowing the possession of a given team does not tell us anything about the number of goals they have scored, it seems possession is an independet variable. However the number of goals does indeed convey information about the possession. The more goals the more chances the possession for that team was higher.\n",
    "> It seems there is a one way relation between goals and possession. The more goals the more likely the team has had higher possession. However possession does not convey much information about number of goals\n",
    "\n",
    "**Lastly, how accurate are bookmakers are estimating their probabilities for these different kinds of matches.**    \n",
    "We will answer this question by calculating the probabilities ourselves and comparing those with the bookmaker assigned to each event on average.\n",
    "For example let's look at the mean probability assigned by the bookmaker for some matches"
   ]
  },
  {
   "cell_type": "code",
   "execution_count": 21,
   "metadata": {},
   "outputs": [
    {
     "name": "stdout",
     "output_type": "stream",
     "text": [
      "Probability assigned for a home win when favourite plays at home: (81.6720622479695+0j)%\n",
      "Probability assigned for an away win when favourite plays at away: 80.07824439146643%\n",
      "Probability assigned for a home win when the match is balanced: (37.689914360670194+0j)%\n",
      "Probability assigned for an away win when the match is balanced: 35.478635153113984%\n",
      "Probability assigned for a draw when the match is balanced: 30.60366506075094%\n"
     ]
    }
   ],
   "source": [
    "print ('Probability assigned for a home win when favourite plays at home: {}%'.format(100/favH.mean()['B365H']))\n",
    "print ('Probability assigned for an away win when favourite plays at away: {}%'.format(100/favA.mean()['B365A']))\n",
    "print ('Probability assigned for a home win when the match is balanced: {}%'.format(100/openmatch.mean()['B365H']))\n",
    "print ('Probability assigned for an away win when the match is balanced: {}%'.format(100/openmatch.mean()['B365A']))\n",
    "print ('Probability assigned for a draw when the match is balanced: {}%'.format(100/openmatch.mean()['B365D']))"
   ]
  },
  {
   "cell_type": "markdown",
   "metadata": {},
   "source": [
    "Let's look at the actual figures"
   ]
  },
  {
   "cell_type": "code",
   "execution_count": 19,
   "metadata": {},
   "outputs": [
    {
     "name": "stdout",
     "output_type": "stream",
     "text": [
      "Actual probability for a home win when favourite plays at home: 82.19749652294854%\n",
      "Actual probability for an away win when favourite plays at away: 74.80916030534351%\n",
      "Actual probability for a home win when the match is balanced: 36.73857868020305%\n",
      "Actual probability for an away win when the match is balanced: 32.48730964467005%\n",
      "Actual probability for a draw when the match is balanced: 30.774111675126903%\n"
     ]
    }
   ],
   "source": [
    "print ('Actual probability for a home win when favourite plays at home: {}%'.format(100*sum(favH['HT_goal'] > favH['AT_goal'])/len(favH.index)))\n",
    "print ('Actual probability for an away win when favourite plays at away: {}%'.format(100*sum(favA['AT_goal'] > favA['HT_goal'])/len(favA.index)))\n",
    "print ('Actual probability for a home win when the match is balanced: {}%'.format(100*sum(openmatch['HT_goal'] > openmatch['AT_goal'])/len(openmatch.index)))\n",
    "print ('Actual probability for an away win when the match is balanced: {}%'.format(100*sum(openmatch['AT_goal'] > openmatch['HT_goal'])/len(openmatch.index)))\n",
    "print ('Actual probability for a draw when the match is balanced: {}%'.format(100*sum(openmatch['HT_goal'] == openmatch['AT_goal'])/len(openmatch.index)))"
   ]
  },
  {
   "cell_type": "markdown",
   "metadata": {},
   "source": [
    "Based on the results above, it seems that bookmakers are pretty good at estimating probabilties for events as they are off not by much... When bookmakers assign less probability to a particular event than the actual probability they are covering themselves. This is because the expected value will be less than 1.\n",
    "\n",
    "On question 3 we will elaborate more on expected values and betting odds. But for now\n",
    "> It seems that bookmakers have really good means to calculate probabilities for assigned events. Based on data the average probability they assign to various events is very close to the sample we have processed from the database"
   ]
  },
  {
   "cell_type": "markdown",
   "metadata": {},
   "source": [
    "<a id='conclusions'></a>\n",
    "## Conclusions\n",
    "\n"
   ]
  },
  {
   "cell_type": "code",
   "execution_count": null,
   "metadata": {},
   "outputs": [],
   "source": []
  }
 ],
 "metadata": {
  "kernelspec": {
   "display_name": "Python [conda env:anaconda3]",
   "language": "python",
   "name": "conda-env-anaconda3-py"
  },
  "language_info": {
   "codemirror_mode": {
    "name": "ipython",
    "version": 3
   },
   "file_extension": ".py",
   "mimetype": "text/x-python",
   "name": "python",
   "nbconvert_exporter": "python",
   "pygments_lexer": "ipython3",
   "version": "3.7.0"
  }
 },
 "nbformat": 4,
 "nbformat_minor": 2
}
