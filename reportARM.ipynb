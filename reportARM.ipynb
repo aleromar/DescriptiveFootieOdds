{
 "cells": [
  {
   "cell_type": "markdown",
   "metadata": {},
   "source": [
    "# European Soccer Database\n",
    "\n",
    "\n",
    "## Table of Contents\n",
    "<ul>\n",
    "<li><a href=\"#intro\">Introduction</a></li>\n",
    "<li><a href=\"#wrangling\">Data Wrangling</a></li>\n",
    "<li><a href=\"#eda\">Exploratory Data Analysis</a></li>\n",
    "<li><a href=\"#conclusions\">Conclusions</a></li>\n",
    "</ul>"
   ]
  },
  {
   "cell_type": "markdown",
   "metadata": {},
   "source": [
    "<a id='intro'></a>\n",
    "## Introduction\n",
    "\n",
    "As an average european male citizen I've always been interested in \"football\". In fact, I've done a fair bit of online football betting with not much success. It may well be that I was letting myself to passion as opposed to data. This project therefore represents a good opportunity to take more informed decissions should I decide to bet in the future.\n",
    "\n",
    "The database is available at [Kaggle](https://www.kaggle.com/hugomathien/soccer). It consists of a sqlite database that contains eight different tables. The amount of detail in the database is overwhelming and for this project only a subset of the tables will be used. \n",
    "\n",
    "Before starting a discussion on what information is relevant for this project, let's first pose the questions and then discuss what parts of the database will be useful to answer them.\n",
    " > Since there is information on winning probability assigned by the bookmaker, it may be worth answering whether matches where there is a clear favourite show different statistics from those other matches where winning probabilities are more evenly distributed. **Does the fact that we know whether there is a favourite in a match increase our chances of predicting some other statistic about the game?**\n",
    "\n",
    " > It seems to me that the number of goals in any given stage will be directly related to how far into the season a match is played. At the beginning of the season there are generally some new players that have not adapted yet, also players are not yet in shape. At the end of the season players are generally tired after playing the whole season. So my question is **Are there more goals for stages that take place around mid-season?**\n",
    "\n",
    " > Also an 'a priori' thought that occurs to me is that when the probabilities for each result are not assigning a clear favourite, then to me (no data analysis yet...) that represent a totally random process where probabilities can be calculated with the information contained in the database. If for example the probability for home win was 40%. **Would an strategy of betting for home win when it pays > 1/0.4 be a successful strategy?**\n",
    " \n",
    " > Lastly, if I was the new president of an aspiring team with enough money. **Is it worth investing in a top10 scorer?** or in other words **Do top scorers play in the most successful teams**\n",
    "\n",
    "In order to answer these questions above we then need the following tables from the database:\n",
    "* **Country**. This table will enable comparing results by country name as opposed to country id\n",
    "* **Match**. This table contains the bulk of data for this project and it will be used to answer every question\n",
    "* **Player**. This table will help us answer last question\n",
    "* **Team**. This table, again will help us answer last question and support some of the assertions in the analysis below   \n",
    "\n",
    "I have deliverately not included the following tables\n",
    "\n",
    "* **League**. The database only contains one league per country, so this table does not add any extra information\n",
    "* **Player_Attributes**: This database contains information about player skill. This table does not add any information to answer the questions above.\n",
    "* **Team_Attributes**: Similarly, this table does not add any useful information that could be used to answer the questions above.\n",
    "\n",
    "The idea then is to query the database to extract all the useful information. Then doing all data wrangling process to have the data in the most organised way possible. To answer the first three questions, the **match** table contains most of the information required. However it will be seen that information from **Country** is also required.  \n",
    "\n",
    "A list of the Python modules that will be used can be seen in the excerpt below."
   ]
  },
  {
   "cell_type": "markdown",
   "metadata": {},
   "source": [
    "Also, worth mentioning that I've copied from [here](https://www.kaggle.com/jiezi2004/the-beautiful-game-1-data-preparation/notebook) the following two functions that will help me parse XML data.\n"
   ]
  },
  {
   "cell_type": "markdown",
   "metadata": {},
   "source": [
    "<a id='wrangling'></a>\n",
    "## Data Wrangling\n",
    "\n",
    "### General Properties"
   ]
  },
  {
   "cell_type": "markdown",
   "metadata": {},
   "source": [
    "<a id='eda'></a>\n",
    "## Exploratory Data Analysis\n"
   ]
  },
  {
   "cell_type": "markdown",
   "metadata": {},
   "source": [
    "<a id='conclusions'></a>\n",
    "## Conclusions\n",
    "\n"
   ]
  },
  {
   "cell_type": "code",
   "execution_count": null,
   "metadata": {
    "collapsed": true
   },
   "outputs": [],
   "source": []
  }
 ],
 "metadata": {
  "kernelspec": {
   "display_name": "Python 2",
   "language": "python",
   "name": "python2"
  },
  "language_info": {
   "codemirror_mode": {
    "name": "ipython",
    "version": 2
   },
   "file_extension": ".py",
   "mimetype": "text/x-python",
   "name": "python",
   "nbconvert_exporter": "python",
   "pygments_lexer": "ipython2",
   "version": "2.7.14"
  }
 },
 "nbformat": 4,
 "nbformat_minor": 2
}
